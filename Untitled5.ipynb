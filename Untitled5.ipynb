{
  "nbformat": 4,
  "nbformat_minor": 0,
  "metadata": {
    "colab": {
      "name": "Untitled5.ipynb",
      "provenance": [],
      "authorship_tag": "ABX9TyNBlOSwczO8p+smqGWzV9IM",
      "include_colab_link": true
    },
    "kernelspec": {
      "name": "python3",
      "display_name": "Python 3"
    }
  },
  "cells": [
    {
      "cell_type": "markdown",
      "metadata": {
        "id": "view-in-github",
        "colab_type": "text"
      },
      "source": [
        "<a href=\"https://colab.research.google.com/github/vyshnavi2001/pe/blob/master/Untitled5.ipynb\" target=\"_parent\"><img src=\"https://colab.research.google.com/assets/colab-badge.svg\" alt=\"Open In Colab\"/></a>"
      ]
    },
    {
      "cell_type": "code",
      "metadata": {
        "id": "yfyY1lSdeQmi",
        "colab_type": "code",
        "colab": {
          "base_uri": "https://localhost:8080/",
          "height": 68
        },
        "outputId": "10589403-ae98-4c60-df79-173f3c176df0"
      },
      "source": [
        "weight=int(input(\"enter weight\"))\n",
        "height=float(input(\"enter height\"))\n",
        "w=weight*0.45359237\n",
        "h=height*0.0254\n",
        "bmi=w/(h**2)\n",
        "if bmi<18.5:\n",
        "  print(\"underweight\")\n",
        "elif 18.5<=bmi<25.0:\n",
        "  print(\"normal\")\n",
        "elif 25.0<=bmi<30.0:\n",
        "  print(\"overweight\")\n",
        "else:\n",
        "  print(\"obese\")\n",
        "\n",
        "\n"
      ],
      "execution_count": 2,
      "outputs": [
        {
          "output_type": "stream",
          "text": [
            "enter weight60\n",
            "enter height5.8\n",
            "obese\n"
          ],
          "name": "stdout"
        }
      ]
    }
  ]
}