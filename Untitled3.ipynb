{
  "nbformat": 4,
  "nbformat_minor": 0,
  "metadata": {
    "colab": {
      "name": "Untitled3.ipynb",
      "provenance": [],
      "authorship_tag": "ABX9TyOiAiDw2EcXWPR8LdhV9jI9",
      "include_colab_link": true
    },
    "kernelspec": {
      "name": "python3",
      "display_name": "Python 3"
    }
  },
  "cells": [
    {
      "cell_type": "markdown",
      "metadata": {
        "id": "view-in-github",
        "colab_type": "text"
      },
      "source": [
        "<a href=\"https://colab.research.google.com/github/vyshnavi2001/pe/blob/master/Untitled3.ipynb\" target=\"_parent\"><img src=\"https://colab.research.google.com/assets/colab-badge.svg\" alt=\"Open In Colab\"/></a>"
      ]
    },
    {
      "cell_type": "code",
      "metadata": {
        "id": "pyMAzg3vvcGt",
        "colab_type": "code",
        "colab": {
          "base_uri": "https://localhost:8080/",
          "height": 85
        },
        "outputId": "433dd6de-28a9-4145-ca8e-fc54e58fb625"
      },
      "source": [
        "water=int(input(\"enter amount of water\"))\n",
        "i=int(input(\"enter intital state of water\"))\n",
        "f=int(input(\"enter final state of water\"))\n",
        "energy=water*(f-i)*4184\n",
        "print(energy)\n"
      ],
      "execution_count": 1,
      "outputs": [
        {
          "output_type": "stream",
          "text": [
            "enter amount of water32\n",
            "enter intital state of water15\n",
            "enter final state of water10\n",
            "-669440\n"
          ],
          "name": "stdout"
        }
      ]
    }
  ]
}