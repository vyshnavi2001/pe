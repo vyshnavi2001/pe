{
  "nbformat": 4,
  "nbformat_minor": 0,
  "metadata": {
    "colab": {
      "name": "Untitled1.ipynb",
      "provenance": [],
      "authorship_tag": "ABX9TyOHNtnPKbl7WUyjh6pUcX6B",
      "include_colab_link": true
    },
    "kernelspec": {
      "name": "python3",
      "display_name": "Python 3"
    }
  },
  "cells": [
    {
      "cell_type": "markdown",
      "metadata": {
        "id": "view-in-github",
        "colab_type": "text"
      },
      "source": [
        "<a href=\"https://colab.research.google.com/github/vyshnavi2001/pe/blob/master/Untitled1.ipynb\" target=\"_parent\"><img src=\"https://colab.research.google.com/assets/colab-badge.svg\" alt=\"Open In Colab\"/></a>"
      ]
    },
    {
      "cell_type": "code",
      "metadata": {
        "id": "Ipqs5fKXdZh7",
        "colab_type": "code",
        "colab": {
          "base_uri": "https://localhost:8080/",
          "height": 68
        },
        "outputId": "d8cb5a74-488e-4e14-e3b7-c2e1f11df079"
      },
      "source": [
        "distance=int(input(\"enter distance\"))\n",
        "weight=int(input(\"enter weight\"))\n",
        "if distance>=500:\n",
        "  if weight>=100:\n",
        "    charge=distance*5\n",
        "  elif weight>=10 and weight<100:\n",
        "     charge=distance*6\n",
        "  else:\n",
        "        charge=distanc*7\n",
        "else:\n",
        "   if weight>=100:\n",
        "     charge=distance*8\n",
        "   else:\n",
        "       charge=distance*5\n",
        "\n",
        "print(charge)\n",
        "\n",
        "\n",
        "\n"
      ],
      "execution_count": 9,
      "outputs": [
        {
          "output_type": "stream",
          "text": [
            "enter distance520\n",
            "enter weight50\n",
            "3120\n"
          ],
          "name": "stdout"
        }
      ]
    }
  ]
}