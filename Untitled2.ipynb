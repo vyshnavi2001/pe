{
  "nbformat": 4,
  "nbformat_minor": 0,
  "metadata": {
    "colab": {
      "name": "Untitled2.ipynb",
      "provenance": [],
      "collapsed_sections": [],
      "authorship_tag": "ABX9TyOf18EgFfLrsq5WN8YfTIiq",
      "include_colab_link": true
    },
    "kernelspec": {
      "name": "python3",
      "display_name": "Python 3"
    }
  },
  "cells": [
    {
      "cell_type": "markdown",
      "metadata": {
        "id": "view-in-github",
        "colab_type": "text"
      },
      "source": [
        "<a href=\"https://colab.research.google.com/github/vyshnavi2001/pe/blob/master/Untitled2.ipynb\" target=\"_parent\"><img src=\"https://colab.research.google.com/assets/colab-badge.svg\" alt=\"Open In Colab\"/></a>"
      ]
    },
    {
      "cell_type": "code",
      "metadata": {
        "id": "iUkqy4zEhlPQ",
        "colab_type": "code",
        "colab": {
          "base_uri": "https://localhost:8080/",
          "height": 68
        },
        "outputId": "5eeff069-11d6-4cb0-8168-0bd8473022e3"
      },
      "source": [
        "type=[\"stalls\",\"circle\",\"up\",\"box\"]\n",
        "payment=[\"cash\",\"card\"]\n",
        "seat=input(\"enter seat\")\n",
        "paymode=input(\"enter mode\")\n",
        "if seat in type[0]:\n",
        "  if paymode in payment[0]:\n",
        "    discount=625*10/100\n",
        "    cost=625-discount\n",
        "  else:\n",
        "    discount=625*5/100\n",
        "    cost=625-discount\n",
        "elif seat in type[1]:\n",
        "  if paymode in payment[0]:\n",
        "    discount=750*10/100\n",
        "    cost=750-discount\n",
        "  else:\n",
        "    discount=750*5/100\n",
        "    cost=750-discount\n",
        "elif seat in type[2]:\n",
        "  if paymode in payment[0]:\n",
        "    discount=850*10/100\n",
        "    cost=850-discount\n",
        "  else:\n",
        "    discount=850*5/100\n",
        "    cost=850-discount\n",
        "else:\n",
        "  if paymode in payment[0]:\n",
        "    discount=1000*10/100\n",
        "    cost=1000-discount\n",
        "  else:\n",
        "    discount=1000*5/100\n",
        "    cost=1000-discount\n",
        "\n",
        "print(cost)\n"
      ],
      "execution_count": null,
      "outputs": [
        {
          "output_type": "stream",
          "text": [
            "enter seatcircle\n",
            "enter modecash\n",
            "675.0\n"
          ],
          "name": "stdout"
        }
      ]
    }
  ]
}