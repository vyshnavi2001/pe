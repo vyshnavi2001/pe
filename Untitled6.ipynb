{
  "nbformat": 4,
  "nbformat_minor": 0,
  "metadata": {
    "colab": {
      "name": "Untitled6.ipynb",
      "provenance": [],
      "authorship_tag": "ABX9TyM8c9YVS8AL8n8bCZm/nqMT",
      "include_colab_link": true
    },
    "kernelspec": {
      "name": "python3",
      "display_name": "Python 3"
    }
  },
  "cells": [
    {
      "cell_type": "markdown",
      "metadata": {
        "id": "view-in-github",
        "colab_type": "text"
      },
      "source": [
        "<a href=\"https://colab.research.google.com/github/vyshnavi2001/pe/blob/master/Untitled6.ipynb\" target=\"_parent\"><img src=\"https://colab.research.google.com/assets/colab-badge.svg\" alt=\"Open In Colab\"/></a>"
      ]
    },
    {
      "cell_type": "code",
      "metadata": {
        "id": "uS9yMcbOgwiB",
        "colab_type": "code",
        "colab": {
          "base_uri": "https://localhost:8080/",
          "height": 51
        },
        "outputId": "d70f770b-86cd-4a48-ee9d-1c7d8594e54b"
      },
      "source": [
        "integer=int(input(\"enter a number\"))\n",
        "digit=0\n",
        "count=0\n",
        "if integer>100 and integer<1000:\n",
        "  while integer>0:\n",
        "   digit=integer%10\n",
        "   count=digit+count\n",
        "   integer=integer//10\n",
        "  print(count)\n",
        "else:\n",
        "  print(\"invalid number\")\n",
        "\n",
        "\n",
        " "
      ],
      "execution_count": 8,
      "outputs": [
        {
          "output_type": "stream",
          "text": [
            "enter a number745\n",
            "16\n"
          ],
          "name": "stdout"
        }
      ]
    }
  ]
}