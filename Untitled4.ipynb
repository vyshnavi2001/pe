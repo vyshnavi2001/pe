{
  "nbformat": 4,
  "nbformat_minor": 0,
  "metadata": {
    "colab": {
      "name": "Untitled4.ipynb",
      "provenance": [],
      "authorship_tag": "ABX9TyMsLRBA5J/sFxx+9Kv8BVdg",
      "include_colab_link": true
    },
    "kernelspec": {
      "name": "python3",
      "display_name": "Python 3"
    }
  },
  "cells": [
    {
      "cell_type": "markdown",
      "metadata": {
        "id": "view-in-github",
        "colab_type": "text"
      },
      "source": [
        "<a href=\"https://colab.research.google.com/github/vyshnavi2001/pe/blob/master/Untitled4.ipynb\" target=\"_parent\"><img src=\"https://colab.research.google.com/assets/colab-badge.svg\" alt=\"Open In Colab\"/></a>"
      ]
    },
    {
      "cell_type": "code",
      "metadata": {
        "id": "5HwLZAcNw8tM",
        "colab_type": "code",
        "colab": {
          "base_uri": "https://localhost:8080/",
          "height": 51
        },
        "outputId": "3f636b3a-ad39-487a-adf2-ad5300739491"
      },
      "source": [
        "winter=[\"december\",\"january\",\"febraury\"]\n",
        "spring=[\"march\",\"april\",\"may\"]\n",
        "summer=[\"june\",\"july\",\"augest\"]\n",
        "autumn=[\"september\",\"october\",\"november\"]\n",
        "month=input(\"enter month\")\n",
        "if month in winter:\n",
        "  print(\"winter\")\n",
        "elif month in spring:\n",
        "  print(\"spring\")\n",
        "elif month in summer:\n",
        "  print(\"summer\")\n",
        "else:\n",
        "  print(\"autumn\")\n"
      ],
      "execution_count": 2,
      "outputs": [
        {
          "output_type": "stream",
          "text": [
            "enter monthdecember\n",
            "winter\n"
          ],
          "name": "stdout"
        }
      ]
    }
  ]
}