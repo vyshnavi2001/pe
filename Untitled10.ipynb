{
  "nbformat": 4,
  "nbformat_minor": 0,
  "metadata": {
    "colab": {
      "name": "Untitled10.ipynb",
      "provenance": [],
      "authorship_tag": "ABX9TyOvNfOmL2hfO3lV8Ikp2cA9",
      "include_colab_link": true
    },
    "kernelspec": {
      "name": "python3",
      "display_name": "Python 3"
    }
  },
  "cells": [
    {
      "cell_type": "markdown",
      "metadata": {
        "id": "view-in-github",
        "colab_type": "text"
      },
      "source": [
        "<a href=\"https://colab.research.google.com/github/vyshnavi2001/pe/blob/master/Untitled10.ipynb\" target=\"_parent\"><img src=\"https://colab.research.google.com/assets/colab-badge.svg\" alt=\"Open In Colab\"/></a>"
      ]
    },
    {
      "cell_type": "code",
      "metadata": {
        "id": "isyXZcYPryZt",
        "colab_type": "code",
        "colab": {}
      },
      "source": [
        "h=int(input(\"enter height of wall\"))\n",
        "u=int(input(\"enter the cimb up\"))\n",
        "d=int(input(\"enter te climb down\"))\n",
        "s=0\n",
        "t=0\n",
        "p=0\n",
        "while t<=h:\n",
        "  t=t+u\n",
        "  if(t<=h):\n",
        "    t=t-d\n",
        "  s=s+1\n",
        "print(s)"
      ],
      "execution_count": null,
      "outputs": []
    }
  ]
}