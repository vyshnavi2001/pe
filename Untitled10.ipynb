{
  "nbformat": 4,
  "nbformat_minor": 0,
  "metadata": {
    "colab": {
      "name": "Untitled10.ipynb",
      "provenance": [],
      "authorship_tag": "ABX9TyOvNfOmL2hfO3lV8Ikp2cA9",
      "include_colab_link": true
    },
    "kernelspec": {
      "name": "python3",
      "display_name": "Python 3"
    }
  },
  "cells": [
    {
      "cell_type": "markdown",
      "metadata": {
        "id": "view-in-github",
        "colab_type": "text"
      },
      "source": [
        "<a href=\"https://colab.research.google.com/github/vyshnavi2001/pe/blob/master/Untitled10.ipynb\" target=\"_parent\"><img src=\"https://colab.research.google.com/assets/colab-badge.svg\" alt=\"Open In Colab\"/></a>"
      ]
    },
    {
      "cell_type": "code",
      "metadata": {
        "id": "isyXZcYPryZt",
        "colab_type": "code",
        "colab": {
          "base_uri": "https://localhost:8080/",
          "height": 85
        },
        "outputId": "a72c7305-4d8e-4684-9223-b6ab75a060ce"
      },
      "source": [
        "h=int(input(\"enter height of wall\"))\n",
        "u=int(input(\"enter the cimb up\"))\n",
        "d=int(input(\"enter te climb down\"))\n",
        "s=0\n",
        "t=0\n",
        "p=0\n",
        "while t<=h:\n",
        "  t=t+u\n",
        "  if(t<=h):\n",
        "    t=t-d\n",
        "  s=s+1\n",
        "print(s)"
      ],
      "execution_count": 3,
      "outputs": [
        {
          "output_type": "stream",
          "text": [
            "enter height of wall200\n",
            "enter the cimb up50\n",
            "enter te climb down1\n",
            "5\n"
          ],
          "name": "stdout"
        }
      ]
    }
  ]
}